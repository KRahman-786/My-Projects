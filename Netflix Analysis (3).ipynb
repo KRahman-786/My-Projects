{
 "cells": [
  {
   "cell_type": "code",
   "execution_count": null,
   "id": "d53385bc-0ff4-4b2f-bc3c-35a05e808460",
   "metadata": {},
   "outputs": [],
   "source": [
    "import numpy as np\n",
    "import pandas as pd\n",
    "import matplotlib.pyplot as plt\n",
    "import seaborn as sns"
   ]
  },
  {
   "cell_type": "code",
   "execution_count": null,
   "id": "090656da-2378-45cb-802b-8dbe17a44f53",
   "metadata": {},
   "outputs": [],
   "source": [
    "df=pd.read_csv('mymoviedb.csv', lineterminator= '\\n')\n",
    "df.head()"
   ]
  },
  {
   "cell_type": "code",
   "execution_count": null,
   "id": "c80cac62-5cd8-496a-a038-1b93bbd39020",
   "metadata": {},
   "outputs": [],
   "source": [
    "df.info()"
   ]
  },
  {
   "cell_type": "code",
   "execution_count": null,
   "id": "25b35aa3-0f2b-4ad0-8fb2-008241e23537",
   "metadata": {},
   "outputs": [],
   "source": [
    "df['Genre'].head()"
   ]
  },
  {
   "cell_type": "code",
   "execution_count": null,
   "id": "ad9ad323-7f6e-4a7d-84b1-c74b9337ef9d",
   "metadata": {},
   "outputs": [],
   "source": [
    "df.duplicated().sum()"
   ]
  },
  {
   "cell_type": "code",
   "execution_count": null,
   "id": "e81bf5da-90e4-4ddf-8943-284f03d566c9",
   "metadata": {},
   "outputs": [],
   "source": [
    "df.describe()"
   ]
  },
  {
   "cell_type": "code",
   "execution_count": null,
   "id": "c9673b4d-7b97-4ae3-bd3b-10616ddfc544",
   "metadata": {},
   "outputs": [],
   "source": [
    "# Convert 'Vote_Count' column to int64\n",
    "df['Vote_Count'] = pd.to_numeric(df['Vote_Count'], errors='coerce')\n",
    "\n",
    "# Convert 'Vote_Average' column to int64\n",
    "df['Vote_Average'] = pd.to_numeric(df['Vote_Average'], errors='coerce')"
   ]
  },
  {
   "cell_type": "code",
   "execution_count": null,
   "id": "f8c395a0-f72f-4630-89b0-6829afd8ca17",
   "metadata": {},
   "outputs": [],
   "source": [
    "df.describe()"
   ]
  },
  {
   "cell_type": "code",
   "execution_count": null,
   "id": "449a5dad-216a-40fb-a331-319751339f2e",
   "metadata": {},
   "outputs": [],
   "source": [
    "df['Release_Date'] = pd.to_datetime(df['Release_Date'])\n",
    "print(df['Release_Date'].dtypes)"
   ]
  },
  {
   "cell_type": "code",
   "execution_count": null,
   "id": "42bc999c-f0b5-4431-8c20-6e680e20d791",
   "metadata": {},
   "outputs": [],
   "source": [
    "df.head()"
   ]
  },
  {
   "cell_type": "markdown",
   "id": "31596406-0531-4e9d-a676-91836b296002",
   "metadata": {},
   "source": [
    "# Dropping the columns"
   ]
  },
  {
   "cell_type": "code",
   "execution_count": null,
   "id": "65341ea2-807b-488f-b94b-7665c10c3e71",
   "metadata": {},
   "outputs": [],
   "source": [
    "cols= ['Overview', 'Original_Language', 'Poster_Url\\r']"
   ]
  },
  {
   "cell_type": "code",
   "execution_count": null,
   "id": "0d356809-c618-4c28-8d7f-6079632645d9",
   "metadata": {},
   "outputs": [],
   "source": [
    "df.drop(cols, axis=1, inplace=True)\n",
    "df.columns"
   ]
  },
  {
   "cell_type": "code",
   "execution_count": null,
   "id": "92a2c437-a1dc-4111-a55b-a1d6ae1c9d21",
   "metadata": {},
   "outputs": [],
   "source": [
    "df.head()"
   ]
  },
  {
   "cell_type": "code",
   "execution_count": null,
   "id": "5a4cd731-0ff8-4190-bc88-adc42ce9787d",
   "metadata": {},
   "outputs": [],
   "source": [
    "df.describe()"
   ]
  },
  {
   "cell_type": "code",
   "execution_count": null,
   "id": "0ba61a10-38f8-441a-ad41-23275ddb6c1c",
   "metadata": {},
   "outputs": [],
   "source": [
    "df.info()"
   ]
  },
  {
   "cell_type": "markdown",
   "id": "3f8ea413-101e-4a01-83cb-53c4c7e344c6",
   "metadata": {},
   "source": [
    "# Categorizing Vote Average Columns"
   ]
  },
  {
   "cell_type": "code",
   "execution_count": null,
   "id": "bd3048db-7328-438f-929b-b48e2eaa1158",
   "metadata": {},
   "outputs": [],
   "source": [
    "import pandas as pd\n",
    "\n",
    "# Function to categorize columns\n",
    "def Catigorized_col(df, col, labels):\n",
    "    edges = [\n",
    "        df[col].describe()['min'],       # Minimum value\n",
    "        df[col].describe()['25%'],      # 25th percentile\n",
    "        df[col].describe()['50%'],      # 50th percentile\n",
    "        df[col].describe()['75%'],      # 75th percentile\n",
    "        df[col].describe()['max']       # Maximum value\n",
    "    ]\n",
    "    \n",
    "    # Use pd.cut to categorize\n",
    "    df[col] = pd.cut(df[col], edges, labels=labels, include_lowest=True)\n",
    "    return df\n",
    "\n",
    "# Example Usage\n",
    "labels = ['not_popular', 'below_average', 'average', 'Popular']\n",
    "df = Catigorized_col(df, 'Vote_Average', labels)\n",
    "\n",
    "# Check unique categories\n",
    "print(df['Vote_Average'].unique())\n",
    "\n",
    "            "
   ]
  },
  {
   "cell_type": "code",
   "execution_count": null,
   "id": "2452319d-664e-4ab6-bdd7-f8d526d768b2",
   "metadata": {},
   "outputs": [],
   "source": [
    "df.head()"
   ]
  },
  {
   "cell_type": "code",
   "execution_count": null,
   "id": "015d025c-3403-4354-9106-10c829d23b14",
   "metadata": {},
   "outputs": [],
   "source": [
    "df['Vote_Average'].value_counts()"
   ]
  },
  {
   "cell_type": "code",
   "execution_count": null,
   "id": "0c3437cd-7acb-4167-94e4-4144570e59cb",
   "metadata": {},
   "outputs": [],
   "source": [
    "df.dropna(inplace=True)"
   ]
  },
  {
   "cell_type": "code",
   "execution_count": null,
   "id": "21fbc8c2-195c-49be-bab6-a17aa8887712",
   "metadata": {},
   "outputs": [],
   "source": [
    "df.isna().sum()"
   ]
  },
  {
   "cell_type": "code",
   "execution_count": null,
   "id": "cfe7c8b9-ebd8-4164-8358-c8d592370d47",
   "metadata": {},
   "outputs": [],
   "source": [
    "df.head()"
   ]
  },
  {
   "cell_type": "markdown",
   "id": "2da6ee89-e2cb-4be9-9e63-4d3133721e94",
   "metadata": {},
   "source": [
    "# Split Genres into a list"
   ]
  },
  {
   "cell_type": "code",
   "execution_count": null,
   "id": "428db2ca-d455-4c23-8d5e-ea9ecd64691b",
   "metadata": {},
   "outputs": [],
   "source": [
    "df['Genre']=df['Genre'].str.split(', ')\n",
    "df=df.explode('Genre').reset_index(drop=True)  #for splitting in different line we will use explode\n",
    "df.head()"
   ]
  },
  {
   "cell_type": "markdown",
   "id": "041fb281-a210-440a-9f61-cdafffd389a9",
   "metadata": {},
   "source": [
    "# Casting column into Category"
   ]
  },
  {
   "cell_type": "code",
   "execution_count": null,
   "id": "3e355ee9-2372-4ca2-b6b6-6c9c30e72d4f",
   "metadata": {},
   "outputs": [],
   "source": [
    "df['Genre']=df['Genre'].astype('category')\n",
    "df['Genre'].dtypes"
   ]
  },
  {
   "cell_type": "code",
   "execution_count": null,
   "id": "12c4da44-8c16-4a83-b2b3-41d35c29d09d",
   "metadata": {},
   "outputs": [],
   "source": [
    "df.info()"
   ]
  },
  {
   "cell_type": "code",
   "execution_count": null,
   "id": "79c9eb49-b42b-4980-90f2-9df9a1feb2a9",
   "metadata": {},
   "outputs": [],
   "source": [
    "df.nunique()"
   ]
  },
  {
   "cell_type": "markdown",
   "id": "ea3f42e0-abe0-4545-b8e9-d023403c3135",
   "metadata": {},
   "source": [
    "# Data Visualization"
   ]
  },
  {
   "cell_type": "code",
   "execution_count": null,
   "id": "2725e8c4-2006-4048-aa30-73324a162dc7",
   "metadata": {},
   "outputs": [],
   "source": [
    "sns.set_style('whitegrid')"
   ]
  },
  {
   "cell_type": "markdown",
   "id": "81fe0f1c-6b63-4e33-96bb-85a7fd9eb88b",
   "metadata": {},
   "source": [
    "# Most frequent release genre"
   ]
  },
  {
   "cell_type": "code",
   "execution_count": null,
   "id": "3001b59d-0b90-4787-9491-42a98e947e45",
   "metadata": {},
   "outputs": [],
   "source": [
    "df['Genre'].describe()"
   ]
  },
  {
   "cell_type": "code",
   "execution_count": null,
   "id": "247316e9-a69c-4ef4-abc4-048a0c438c12",
   "metadata": {},
   "outputs": [],
   "source": [
    "sns.catplot(y='Genre', data=df, kind='count', \n",
    "            order=df['Genre'].value_counts().index,\n",
    "            color='#4287f5')\n",
    "plt.title(\"Genre Column Distribution\")\n",
    "plt.show()"
   ]
  },
  {
   "cell_type": "markdown",
   "id": "7cdeeb73-576b-4cf6-be03-401504d8be74",
   "metadata": {},
   "source": [
    "# Highest Vote Received"
   ]
  },
  {
   "cell_type": "code",
   "execution_count": null,
   "id": "17ecb8f1-93ef-4ee6-8b1b-419b7db936f8",
   "metadata": {},
   "outputs": [],
   "source": [
    "df.head()"
   ]
  },
  {
   "cell_type": "code",
   "execution_count": null,
   "id": "af573b14-d8b6-4bdf-b8e6-1caa1d805b83",
   "metadata": {},
   "outputs": [],
   "source": [
    "sns.catplot(y='Vote_Average', data=df, kind= 'count',\n",
    "            order=df['Vote_Average'].value_counts().index,\n",
    "            color= '#4287f5')\n",
    "plt.title('Votes Distribution')\n",
    "plt.show()"
   ]
  },
  {
   "cell_type": "markdown",
   "id": "077d59b2-5bcd-457f-863f-43afba47c76a",
   "metadata": {},
   "source": [
    "# Highest Popular Movie with Genre"
   ]
  },
  {
   "cell_type": "code",
   "execution_count": null,
   "id": "0eab8a19-e87a-49da-be0c-ad6a3a4d565e",
   "metadata": {},
   "outputs": [],
   "source": [
    "df.head()"
   ]
  },
  {
   "cell_type": "code",
   "execution_count": null,
   "id": "65b01b78-0149-4978-905c-cbfb3725c8bc",
   "metadata": {},
   "outputs": [],
   "source": [
    "df[df['Popularity']==df['Popularity'].max()]"
   ]
  },
  {
   "cell_type": "markdown",
   "id": "c750abb0-1421-4bdf-8c4c-2e7e31dc9ee9",
   "metadata": {},
   "source": [
    "# Lowest Popular Movie with Genre"
   ]
  },
  {
   "cell_type": "code",
   "execution_count": null,
   "id": "41680dd4-85e1-4ae2-afc2-91c59e939726",
   "metadata": {},
   "outputs": [],
   "source": [
    "df[df['Popularity']==df['Popularity'].min()]"
   ]
  },
  {
   "cell_type": "markdown",
   "id": "e2e47141-fb82-47ce-b762-cca989868801",
   "metadata": {},
   "source": [
    "# Year-Most Filmed Movies"
   ]
  },
  {
   "cell_type": "code",
   "execution_count": null,
   "id": "196e392c-320b-4f00-b626-0d8594defd78",
   "metadata": {},
   "outputs": [],
   "source": [
    "df['Release_Date'].hist()\n",
    "plt.title('Release Date Column Distribution')\n",
    "plt.show()"
   ]
  },
  {
   "cell_type": "code",
   "execution_count": null,
   "id": "3ba4b3c8-5dcf-455d-a31f-4f27614e3ed4",
   "metadata": {},
   "outputs": [],
   "source": []
  },
  {
   "cell_type": "code",
   "execution_count": null,
   "id": "1eebecde-d399-4d60-988c-361ee47dd459",
   "metadata": {},
   "outputs": [],
   "source": [
    "df.head()"
   ]
  },
  {
   "cell_type": "code",
   "execution_count": null,
   "id": "4c552554-9f6c-4320-a5ac-a593e444ca15",
   "metadata": {},
   "outputs": [],
   "source": []
  }
 ],
 "metadata": {
  "kernelspec": {
   "display_name": "Python 3 (ipykernel)",
   "language": "python",
   "name": "python3"
  },
  "language_info": {
   "codemirror_mode": {
    "name": "ipython",
    "version": 3
   },
   "file_extension": ".py",
   "mimetype": "text/x-python",
   "name": "python",
   "nbconvert_exporter": "python",
   "pygments_lexer": "ipython3",
   "version": "3.12.2"
  }
 },
 "nbformat": 4,
 "nbformat_minor": 5
}
